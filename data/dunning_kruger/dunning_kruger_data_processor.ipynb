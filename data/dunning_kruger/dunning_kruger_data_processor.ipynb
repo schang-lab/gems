{
 "cells": [
  {
   "cell_type": "code",
   "execution_count": null,
   "id": "e6c12157",
   "metadata": {},
   "outputs": [],
   "source": [
    "import json\n",
    "import re\n",
    "from typing import List\n",
    "\n",
    "import numpy as np\n",
    "import pandas as pd\n",
    "from datasets import load_dataset\n",
    "\n",
    "EXPERIMENT_NAME = 'jansen2021dunningkruger/exp1.csv'\n",
    "\n",
    "ds = load_dataset(\"marcelbinz/Psych-101\")['train']\n",
    "selected_rows = []\n",
    "for row in ds:\n",
    "    if row['experiment'] == EXPERIMENT_NAME:\n",
    "        selected_rows.append(row)"
   ]
  },
  {
   "cell_type": "markdown",
   "id": "f540a820",
   "metadata": {},
   "source": [
    "### (Optional) Inspect the data row"
   ]
  },
  {
   "cell_type": "code",
   "execution_count": null,
   "id": "7d50aec6",
   "metadata": {},
   "outputs": [],
   "source": [
    "print(selected_rows[0]['text'])"
   ]
  },
  {
   "cell_type": "markdown",
   "id": "6aa509d5",
   "metadata": {},
   "source": [
    "### parse the human response"
   ]
  },
  {
   "cell_type": "code",
   "execution_count": null,
   "id": "9f74ae28",
   "metadata": {},
   "outputs": [],
   "source": [
    "def parse_double_angle_tokens_dynamic(text: str) -> List[int]:\n",
    "    \"\"\"\n",
    "    Extracts all << >> tokens in order from the grammar quiz text.\n",
    "    For each question, it dynamically determines the order of labels (e.g. V,E,H,J,G)\n",
    "    from the \"The choices are:\" block and maps each <<X>> press to its correct index\n",
    "    (1-based within that local ordering).\n",
    "    Other numeric answers (like <<4>> or <<50>>%) are parsed as integers.\n",
    "    \"\"\"\n",
    "    choice_blocks = re.findall(\n",
    "        r\"The choices are:\\s*((?:[A-Z]:[^\\n]+\\n?)+)\",\n",
    "        text, flags=re.MULTILINE\n",
    "    )\n",
    "\n",
    "    label_orders = []\n",
    "    for block in choice_blocks:\n",
    "        labels = re.findall(r\"([A-Z]):\", block)\n",
    "        label_orders.append(labels)\n",
    "\n",
    "    tokens = re.findall(r\"<<\\s*(.*?)\\s*>>\", text)\n",
    "\n",
    "    results = []\n",
    "    q_idx = 0\n",
    "    for tok in tokens:\n",
    "        tok_clean = tok.strip().upper()\n",
    "        if len(tok_clean) == 1 and tok_clean.isalpha():\n",
    "            if q_idx < len(label_orders):\n",
    "                labels = label_orders[q_idx]\n",
    "                if tok_clean in labels:\n",
    "                    results.append(labels.index(tok_clean) + 1)\n",
    "                else:\n",
    "                    raise ValueError(f\"Unexpected label '{tok_clean}' not in {labels}\")\n",
    "            else:\n",
    "                raise ValueError(f\"Out-of-range question index {q_idx}\")\n",
    "            q_idx += 1\n",
    "        else:\n",
    "            val = re.sub(r\"[^\\d\\.\\-\\+]\", \"\", tok_clean)\n",
    "            if val:\n",
    "                results.append(int(float(val)))\n",
    "            else:\n",
    "                raise ValueError(f\"Unrecognized token <<{tok}>>\")\n",
    "\n",
    "    return results\n",
    "\n",
    "human_response = []\n",
    "for row in selected_rows:\n",
    "    human_response.append(parse_double_angle_tokens_dynamic(row['text']))\n",
    "\n",
    "human_response_array = np.array(human_response)"
   ]
  },
  {
   "cell_type": "markdown",
   "id": "5a57d15a",
   "metadata": {},
   "source": [
    "### save human response to .csv file"
   ]
  },
  {
   "cell_type": "code",
   "execution_count": null,
   "id": "878f313f",
   "metadata": {},
   "outputs": [],
   "source": [
    "df = pd.DataFrame(human_response_array)\n",
    "df.insert(0, 'QKEY', range(2000001, 2000001 + len(df)))\n",
    "df.insert(df.shape[1], 'WEIGHT_W1', 1.0)\n",
    "df.columns = (\n",
    "    ['QKEY']\n",
    "    + ['pre_accuracy', 'pre_percentile', 'pre_average_difficulty', 'pre_self_difficulty']\n",
    "    + [f'Q{i+1}_W1' for i in range(df.shape[1] - 1 - 4 - 4 - 1)]\n",
    "    + ['post_accuracy', 'post_percentile', 'post_average_difficulty', 'post_self_difficulty']\n",
    "    + ['WEIGHT_W1']\n",
    ")\n",
    "df.to_csv('dunning_kruger_responses.csv', index=False)"
   ]
  },
  {
   "cell_type": "markdown",
   "id": "f419defd",
   "metadata": {},
   "source": [
    "### generate the question strings json file"
   ]
  },
  {
   "cell_type": "code",
   "execution_count": null,
   "id": "335d0ac6",
   "metadata": {},
   "outputs": [],
   "source": [
    "row = selected_rows[0]['text']\n",
    "\n",
    "# question_intro is taken from the original dataset\n",
    "# you can inspect the second notebook cell for details\n",
    "question_intro = (\n",
    "    \"Some part of the sentence is in square brackets.\\n\"\n",
    "    + \"Five choices for rephrasing that part follow the sentence; \"\n",
    "    + \"one choice repeats the original, and the other four are different.\\n\"\n",
    "    + \"Your task is to select the grammatically correct choice.\"\n",
    ")\n",
    "\n",
    "# split the text into question parts\n",
    "parts = re.split(r'(?=(Q\\d+\\.\\s))', row)\n",
    "parts = [part for part in parts if \"The choices are:\" in part]\n",
    "\n",
    "question_strings_dict = {}\n",
    "for idx, part in enumerate(parts):\n",
    "    cleaned = re.sub(r'^Q\\d+\\.\\s*', '', part, flags=re.MULTILINE).split(\"The choices are:\")[0].strip()\n",
    "    question_strings_dict[f'Q{idx+1}_W1'] = question_intro + \"\\n\\n\" + cleaned"
   ]
  },
  {
   "cell_type": "code",
   "execution_count": null,
   "id": "4439f7f4",
   "metadata": {},
   "outputs": [],
   "source": [
    "with open('dunning_kruger_question_strings.json', 'w') as f:\n",
    "    json.dump(question_strings_dict, f, indent=4)"
   ]
  },
  {
   "cell_type": "markdown",
   "id": "8d63025f",
   "metadata": {},
   "source": [
    "### generate the options map json file"
   ]
  },
  {
   "cell_type": "code",
   "execution_count": null,
   "id": "59ac9484",
   "metadata": {},
   "outputs": [],
   "source": [
    "options_map_dict = {}\n",
    "for idx, part in enumerate(parts):\n",
    "    choices_block = re.search(r\"The choices are:\\s*((?:[A-Z]:[^\\n]+\\n?)+)\", part, flags=re.MULTILINE)\n",
    "    cleaned = re.sub(r'^Q\\d+\\.\\s*', '', part, flags=re.MULTILINE).split(\"The choices are:\")[1].strip()\n",
    "    options: List[str] = []\n",
    "    for line in cleaned.split('\\n'):\n",
    "        if \":\" not in line:\n",
    "            continue\n",
    "        label, option_text = line.split(\":\", 1)\n",
    "        options.append(option_text.strip())\n",
    "    assert len(options) == 5, f\"Expected 5 options, got {len(options)} in question {idx+1}\"\n",
    "    options_map_dict[f'Q{idx+1}_W1'] = {}\n",
    "    for opt_idx, opt_text in enumerate(options):\n",
    "        options_map_dict[f'Q{idx+1}_W1'][float(opt_idx + 1)] = opt_text"
   ]
  },
  {
   "cell_type": "code",
   "execution_count": null,
   "id": "ad2ddcd9",
   "metadata": {},
   "outputs": [],
   "source": [
    "with open('dunning_kruger_options_map.json', 'w') as f:\n",
    "    json.dump(options_map_dict, f, indent=4)"
   ]
  },
  {
   "cell_type": "markdown",
   "id": "d5e3bb2f",
   "metadata": {},
   "source": [
    "### generation the option strings json file"
   ]
  },
  {
   "cell_type": "code",
   "execution_count": null,
   "id": "d267e4f1",
   "metadata": {},
   "outputs": [],
   "source": [
    "option_strings_dict = {}\n",
    "for qkey in question_strings_dict:\n",
    "    options = options_map_dict[qkey]\n",
    "    qstring = question_strings_dict[qkey]\n",
    "    \n",
    "    full_question = \"Question: \" + qstring + \"\\n\"\n",
    "    for opt_idx, opt_text in options.items():\n",
    "        full_question += chr(ord('A') + int(opt_idx) - 1) + f\". {opt_text}\\n\"\n",
    "    full_question += \"\\n\"\n",
    "\n",
    "    for opt_idx, opt_text in options.items():\n",
    "        key = f\"{qkey}_option_{int(opt_idx)}\"\n",
    "        value = full_question + \"Answer: \" + chr(ord('A') + int(opt_idx) - 1) + \". \" + opt_text\n",
    "        option_strings_dict[key] = value"
   ]
  },
  {
   "cell_type": "code",
   "execution_count": null,
   "id": "be85ce7c",
   "metadata": {},
   "outputs": [],
   "source": [
    "with open('dunning_kruger_option_strings.json', 'w') as f:\n",
    "    json.dump(option_strings_dict, f, indent=4)"
   ]
  }
 ],
 "metadata": {
  "kernelspec": {
   "display_name": "sibyl",
   "language": "python",
   "name": "python3"
  },
  "language_info": {
   "codemirror_mode": {
    "name": "ipython",
    "version": 3
   },
   "file_extension": ".py",
   "mimetype": "text/x-python",
   "name": "python",
   "nbconvert_exporter": "python",
   "pygments_lexer": "ipython3",
   "version": "3.12.11"
  }
 },
 "nbformat": 4,
 "nbformat_minor": 5
}
