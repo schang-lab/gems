{
 "cells": [
  {
   "cell_type": "code",
   "execution_count": null,
   "id": "6659d3de",
   "metadata": {},
   "outputs": [],
   "source": [
    "import json\n",
    "\n",
    "import pandas as pd\n",
    "from datasets import load_dataset\n",
    "\n",
    "\n",
    "ds = load_dataset('LLM-Digital-Twin/Twin-2K-500', 'full_persona')\n",
    "N_PERSON = len(ds['data'])\n",
    "data = [json.loads(ds['data'][i]['persona_json']) for i in range(N_PERSON)]\n",
    "N_BLOCKS = len(data[0])"
   ]
  },
  {
   "cell_type": "markdown",
   "id": "150c14a4",
   "metadata": {},
   "source": [
    "### inspect questions"
   ]
  },
  {
   "cell_type": "code",
   "execution_count": null,
   "id": "f89d2f1a",
   "metadata": {},
   "outputs": [],
   "source": [
    "first_person = data[0]\n",
    "cnt_questions = 0\n",
    "for idx, block in enumerate(first_person):\n",
    "    print(f\"Block {idx}: {block['BlockName']} | number of questions: {len(block['Questions'])}\")\n",
    "    cnt_questions += len(block['Questions'])\n",
    "print(f\"Total number of questions: {cnt_questions}\")"
   ]
  },
  {
   "cell_type": "code",
   "execution_count": null,
   "id": "a10a1acc",
   "metadata": {},
   "outputs": [],
   "source": [
    "question_dict = {}\n",
    "\n",
    "for block_id, block in enumerate(first_person):\n",
    "    questions = block['Questions']\n",
    "    for question in questions:\n",
    "            qid = question['QuestionID']\n",
    "            qtext = question['QuestionText']\n",
    "            qtype = question['QuestionType']\n",
    "            qoptions = question['Options'] if 'Options' in question else None\n",
    "            if qoptions is None:\n",
    "                  continue\n",
    "            question_dict[f'BLOCK{block_id}' + qid + \"_W1\"] = {\n",
    "                'text': qtext,\n",
    "                'type': qtype,\n",
    "                'options': qoptions\n",
    "            }\n",
    "print(f\"Total number of questions with options: {len(question_dict)}\")"
   ]
  },
  {
   "cell_type": "markdown",
   "id": "326e15ee",
   "metadata": {},
   "source": [
    "### inspect questions (optional)"
   ]
  },
  {
   "cell_type": "code",
   "execution_count": null,
   "id": "b019a225",
   "metadata": {},
   "outputs": [],
   "source": [
    "for question in question_dict.values():\n",
    "    print(\"Text: \", question['text'])\n",
    "    print(\"Type: \", question['type'])\n",
    "    print(\"Options: \", question['options'])\n",
    "    print(\"=====\")"
   ]
  },
  {
   "cell_type": "markdown",
   "id": "320602d6",
   "metadata": {},
   "source": [
    "### question keys, qstrings"
   ]
  },
  {
   "cell_type": "code",
   "execution_count": null,
   "id": "74144ce4",
   "metadata": {},
   "outputs": [],
   "source": [
    "qkeys = list(question_dict.keys())\n",
    "# since BLOCK 0 is demographic information, we exclude those questions\n",
    "qkeys = [qkey for qkey in qkeys if not qkey.startswith('BLOCK0')]\n",
    "\n",
    "assert len(qkeys) == len(set(qkeys))\n",
    "with open('twin_question_keys.json', 'w') as f:\n",
    "    json.dump(qkeys, f, indent=4)\n",
    "\n",
    "qstrings = {qid: question_dict[qid]['text'] for qid in qkeys}\n",
    "with open('twin_question_strings.json', 'w') as f:\n",
    "    json.dump(qstrings, f, indent=4)"
   ]
  },
  {
   "cell_type": "markdown",
   "id": "0818d1ce",
   "metadata": {},
   "source": [
    "### Options string"
   ]
  },
  {
   "cell_type": "code",
   "execution_count": null,
   "id": "4cb97d62",
   "metadata": {},
   "outputs": [],
   "source": [
    "def question_formatter(qtext, options):\n",
    "    format_str = f\"Question: {qtext}\\n\"\n",
    "    for i, option in enumerate(options):\n",
    "        format_str += chr(ord('A') + i) + \". \" + option.strip() + \"\\n\"\n",
    "    format_str += \"\\nAnswer: \"\n",
    "    return_strs = []\n",
    "    for i, option in enumerate(options):\n",
    "        return_strs.append((format_str + chr(ord('A') + i) + \". \" + option.strip()).strip())\n",
    "    return return_strs\n",
    "\n",
    "qwoptions = {}\n",
    "options_map = {}\n",
    "for qkey, question in question_dict.items():\n",
    "    qtext = question['text']\n",
    "    options = question['options']\n",
    "    if qkey.startswith('BLOCK0'): # demographic questions: extra processing\n",
    "        options = [\n",
    "            opt.split(\"(\")[0].strip().lower() for opt in options\n",
    "        ]\n",
    "        if qkey == 'BLOCK0QID11_W1':\n",
    "            # another special case: census region pacific -> west\n",
    "            options = ['west' if opt == 'pacific' else opt for opt in options]\n",
    "    qformatted = question_formatter(qtext, options)\n",
    "    if not qkey.startswith('BLOCK0'): # skip demographic questions\n",
    "        for i in range(len(options)):\n",
    "            qwoptions[f\"{qkey}_option_{i+1}\"] = qformatted[i]\n",
    "    options_map[qkey] = {\n",
    "        float(i+1): options[i] for i in range(len(options))\n",
    "    }\n",
    "\n",
    "with open('twin_option_strings.json', 'w') as f:\n",
    "    json.dump(qwoptions, f, indent=4)\n",
    "with open('twin_options_map.json', 'w') as f:\n",
    "    json.dump(options_map, f, indent=4)"
   ]
  },
  {
   "cell_type": "markdown",
   "id": "a85f4456",
   "metadata": {},
   "source": [
    "### process data into tabular form"
   ]
  },
  {
   "cell_type": "code",
   "execution_count": null,
   "id": "21e698da",
   "metadata": {},
   "outputs": [],
   "source": [
    "all_rows = []\n",
    "row_ids = []\n",
    "multiple_choice_cnt = 0\n",
    "qkeys = list(question_dict.keys())\n",
    "\n",
    "for i in range(N_PERSON):\n",
    "    person = json.loads(ds[\"data\"][i][\"persona_json\"])\n",
    "    answers_for_person = {}\n",
    "    for block_id, block in enumerate(person):\n",
    "        for q in block.get(\"Questions\", []):\n",
    "            qid = f'BLOCK{block_id}' + q.get(\"QuestionID\") + \"_W1\"\n",
    "            if qid in question_dict:\n",
    "                options = question_dict[qid][\"options\"]\n",
    "                person_answer_ind = q['Answers'].get('SelectedByPosition')\n",
    "                person_answer_text = q['Answers'].get('SelectedText')\n",
    "                if person_answer_ind is None or person_answer_text is None:\n",
    "                    import pdb; pdb.set_trace()\n",
    "                if isinstance(person_answer_ind, list):\n",
    "                    if len(person_answer_ind) == 1:\n",
    "                        person_answer_ind = person_answer_ind[0]\n",
    "                        person_answer_text = person_answer_text[0]\n",
    "                    else:\n",
    "                        multiple_choice_cnt += 1\n",
    "                        person_answer_ind = person_answer_ind[0]\n",
    "                        person_answer_text = person_answer_text[0]\n",
    "                if not (\n",
    "                    isinstance(person_answer_ind, int)\n",
    "                    and 1 <= person_answer_ind <= len(options)\n",
    "                    and options[person_answer_ind-1] == person_answer_text\n",
    "                ):\n",
    "                    import pdb; pdb.set_trace()\n",
    "                answers_for_person[qid] = person_answer_ind\n",
    "    answers_for_person['WEIGHT_W1'] = 1.0\n",
    "\n",
    "    row = {qid: answers_for_person.get(qid, pd.NA) for qid in qkeys}\n",
    "    row['WEIGHT_W1'] = answers_for_person.get('WEIGHT_W1', pd.NA)\n",
    "    all_rows.append(row)\n",
    "    row_ids.append(10000001 + i)\n",
    "\n",
    "df = pd.DataFrame(all_rows, index=row_ids)\n",
    "df.index.name = \"QKEY\"\n",
    "\n",
    "df.to_csv(\"twin_responses.csv\")\n",
    "\n",
    "print(df.shape)"
   ]
  },
  {
   "cell_type": "markdown",
   "id": "28c63c35",
   "metadata": {},
   "source": [
    "### (Optional) df inspection"
   ]
  },
  {
   "cell_type": "code",
   "execution_count": null,
   "id": "9c5f522e",
   "metadata": {},
   "outputs": [],
   "source": [
    "df"
   ]
  },
  {
   "cell_type": "markdown",
   "id": "25733467",
   "metadata": {},
   "source": [
    "what is random accuracy?"
   ]
  },
  {
   "cell_type": "code",
   "execution_count": null,
   "id": "d8b04303",
   "metadata": {},
   "outputs": [],
   "source": [
    "random_accs = []\n",
    "for qkey in question_dict.keys():\n",
    "    if qkey.startswith(\"BLOCK0QID\"):\n",
    "        continue\n",
    "    options = question_dict[qkey]['options']\n",
    "    n_options = len(options)\n",
    "    random_accs.append(1.0 / n_options)\n",
    "\n",
    "print(\"Average random accuracy (excluding BLOCK0 questions): \", sum(random_accs) / len(random_accs))"
   ]
  }
 ],
 "metadata": {
  "kernelspec": {
   "display_name": "sibyl",
   "language": "python",
   "name": "python3"
  },
  "language_info": {
   "codemirror_mode": {
    "name": "ipython",
    "version": 3
   },
   "file_extension": ".py",
   "mimetype": "text/x-python",
   "name": "python",
   "nbconvert_exporter": "python",
   "pygments_lexer": "ipython3",
   "version": "3.12.11"
  }
 },
 "nbformat": 4,
 "nbformat_minor": 5
}
